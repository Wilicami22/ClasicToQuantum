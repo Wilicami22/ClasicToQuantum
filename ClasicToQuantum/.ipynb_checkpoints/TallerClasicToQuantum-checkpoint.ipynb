{
 "cells": [
  {
   "cell_type": "markdown",
   "id": "1b9eb707-7c83-4f97-ba13-0231912c8306",
   "metadata": {},
   "source": [
    "# Modelling Classical, probabilistic, and Quantum Systems\n",
    "\n",
    "## Classical Discrete Systems\n",
    "![Deterministic System](images/ClassicPhysicalSystem.png)"
   ]
  },
  {
   "cell_type": "markdown",
   "id": "7aa53935-0e35-48f9-a950-8419d2e10552",
   "metadata": {},
   "source": [
    "\n",
    "\n",
    "Modeling the dynamic behaviors and the state of a classical discrete system using matrices and vectors. The state after one click is computed as follows:\n",
    "\n",
    "$$ \n",
    "    \\begin{bmatrix} 0 && 0 && 0 && 0 && 0 && 0 \\\\\n",
    "                   0 && 0 && 0 && 0 && 0 && 0 \\\\\n",
    "                   0 && 1 && 0 && 0 && 0 && 1 \\\\\n",
    "                   0 && 0 && 0 && 1 && 0 && 0 \\\\\n",
    "                   0 && 0 && 1 && 0 && 0 && 0 \\\\\n",
    "                   1 && 0 && 0 && 0 && 1 && 0 \\\\\n",
    "    \\end{bmatrix}\n",
    "    \\begin{bmatrix} 6 \\\\\n",
    "                    2 \\\\\n",
    "                    1 \\\\\n",
    "                    5 \\\\\n",
    "                    3 \\\\\n",
    "                    10 \\\\\n",
    "    \\end{bmatrix}\n",
    "    =\n",
    "    \\begin{bmatrix} 0 \\\\\n",
    "                    0 \\\\\n",
    "                    12 \\\\\n",
    "                    5 \\\\\n",
    "                    1 \\\\\n",
    "                    9 \\\\\n",
    "    \\end{bmatrix}$$"
   ]
  },
  {
   "cell_type": "code",
   "execution_count": null,
   "id": "36c6338e-7e0a-49a2-b34d-d3c14cadcce9",
   "metadata": {},
   "outputs": [],
   "source": [
    "import numpy as np\n",
    "\n",
    "# Define two 3x3 complex matrices\n",
    "m1 = np.array([[0,0,0,0,0,0], \n",
    "               [0,0,0,0,0,0], \n",
    "               [0,1,0,0,0,1],\n",
    "               [0,0,0,1,0,0], \n",
    "               [0,0,1,0,0,0], \n",
    "               [1,0,0,0,1,0]])\n",
    "\n",
    "v1 = np.array([[6], [2], [1], [5], [3], [10]])\n",
    "\n",
    "\n",
    "print(\"Input: \", m1,v1)\n",
    "\n",
    "# Multiplying a 3x3 matrix by a 3x1 vector\n",
    "state_after_one_click = np.dot(m1, v1)\n",
    "print(\"Result after one Click: \", state_after_one_click)"
   ]
  },
  {
   "cell_type": "markdown",
   "id": "e57c43d2-c915-4e44-96d8-7ffd835a92fc",
   "metadata": {},
   "source": [
    "![State after two clicks.](images/ClassicPhysicalSystem2.png)\n",
    "\n",
    "The state after two cliks is computed as follows:"
   ]
  },
  {
   "cell_type": "code",
   "execution_count": null,
   "id": "59a3b269-cabf-4b42-a3f5-43556c45c906",
   "metadata": {},
   "outputs": [],
   "source": [
    "print(\"Result after two clicks: \", np.dot(m1,state_after_one_click))"
   ]
  },
  {
   "cell_type": "markdown",
   "id": "3a108f1a-df36-40c5-9104-19b2bca3b0e7",
   "metadata": {},
   "source": [
    "## Exercises \n",
    "\n"
   ]
  },
  {
   "cell_type": "markdown",
   "id": "380d0d61-9d8f-4412-99e0-c46a7dd4c98c",
   "metadata": {},
   "source": [
    "### Excercise 1:\n",
    "\n",
    "1. Write a program to model the behavior of the probabilistic double slit example depicted in the figure.\n",
    "2. Show the results of the experiment using a bar diagram. Each bar represents the intensity of the light at the specific target.\n",
    "\n",
    "\n",
    "![Probabilistic Double slit.](images/ProbabilisticSystem.png)"
   ]
  },
  {
   "cell_type": "markdown",
   "id": "1a865749-6fbc-4b0c-8725-f25748b08161",
   "metadata": {},
   "source": [
    "## Solución\n",
    "\n",
    "A continuación está el código que describe el comportamento del experimento de la doble rendija probabilistíco y el diagrama de barras que representa la intensidad de la luz:"
   ]
  },
  {
   "cell_type": "code",
   "execution_count": 12,
   "id": "ab604ac5-5060-4f4f-98a8-c5f8f3615776",
   "metadata": {},
   "outputs": [
    {
     "name": "stdout",
     "output_type": "stream",
     "text": [
      "Result after one Click:  [0.  0.5 0.5 0.  0.  0.  0.  0. ]\n",
      "Result after two Clicks:  [0.         0.         0.         0.16666667 0.16666667 0.33333333\n",
      " 0.16666667 0.16666667]\n"
     ]
    },
    {
     "data": {
      "text/plain": [
       "<BarContainer object of 8 artists>"
      ]
     },
     "execution_count": 12,
     "metadata": {},
     "output_type": "execute_result"
    },
    {
     "data": {
      "image/png": "[encoded data removed]",
      "text/plain": [
       "<Figure size 640x480 with 1 Axes>"
      ]
     },
     "metadata": {},
     "output_type": "display_data"
    }
   ],
   "source": [
    "import matplotlib.pyplot as plt\n",
    "import numpy as np\n",
    "\n",
    "# Definimos la matriz y el vector\n",
    "m1 = np.array([[0,0,0,0,0,0,0,0], \n",
    "               [1/2,0,0,0,0,0,0,0], \n",
    "               [1/2,0,0,0,0,0,0,0],\n",
    "               [0,1/3,0,1,0,0,0,0], \n",
    "               [0,1/3,0,0,1,0,0,0], \n",
    "               [0,1/3,1/3,0,0,1,0,0],\n",
    "               [0,0,1/3,0,0,0,1,0],\n",
    "               [0,0,1/3,0,0,0,0,1]])\n",
    "\n",
    "x = np.array([1,0,0,0,0,0,0,0])\n",
    "\n",
    "# Estado despues de 1 click\n",
    "x1 = np.dot(m1, x)\n",
    "print(\"Result after one Click: \", x1)\n",
    "\n",
    "# Estado despues de dos clicks\n",
    "x2 = np.dot(m1, x1)\n",
    "print(\"Result after two Clicks: \",x2)\n",
    "\n",
    "#Datos\n",
    "x = [0,1,2,3,4,5,6,7]\n",
    "\n",
    "#Grafico\n",
    "fig, ax = plt.subplots()\n",
    "ax.bar(x=x, height = x2)\n"
   ]
  },
  {
   "cell_type": "markdown",
   "id": "22908e20-9e48-474b-97fa-77c83ae951ca",
   "metadata": {},
   "source": [
    "### Excercise 2:\n",
    "\n",
    "1. Write a program to model the behavior of the quantum double slit example depicted in the figure.\n",
    "2. Show the results of the experiment using a bar diagram. Each bar represents the intensity of the light at the specific target.\n",
    "\n",
    "\n",
    "![Probabilistic Double slit.](images/QuantumSystem.png)"
   ]
  },
  {
   "cell_type": "markdown",
   "id": "1d4b243d-0ccd-4ee7-ae7e-75649f2bd436",
   "metadata": {},
   "source": [
    "## Solución\n",
    "\n",
    "A continuación está el código que describe el comportamento del experimento de la doble rendija probabilistíco y el diagrama de barras que representa la intensidad de la luz:"
   ]
  },
  {
   "cell_type": "code",
   "execution_count": 27,
   "id": "1756df9c-0506-4996-8ef8-7d9dea0972f6",
   "metadata": {},
   "outputs": [
    {
     "name": "stdout",
     "output_type": "stream",
     "text": [
      "Result after one Click:  [0.        +0.j 0.70710678+0.j 0.70710678+0.j 0.        +0.j\n",
      " 0.        +0.j 0.        +0.j 0.        +0.j 0.        +0.j]\n",
      "Result after two Clicks:  [ 0.        +0.j          0.        +0.j          0.        +0.j\n",
      " -0.28867513+0.28867513j -0.28867513-0.28867513j  0.        +0.j\n",
      " -0.28867513-0.28867513j  0.28867513-0.28867513j]\n",
      "Probability after two clicks:  [0.        +0.j 0.        +0.j 0.        +0.j 0.16666667+0.j\n",
      " 0.16666667+0.j 0.        +0.j 0.16666667+0.j 0.16666667+0.j]\n"
     ]
    },
    {
     "data": {
      "text/plain": [
       "<BarContainer object of 8 artists>"
      ]
     },
     "execution_count": 27,
     "metadata": {},
     "output_type": "execute_result"
    },
    {
     "data": {
      "image/png": "[encoded data removed]",
      "text/plain": [
       "<Figure size 640x480 with 1 Axes>"
      ]
     },
     "metadata": {},
     "output_type": "display_data"
    }
   ],
   "source": [
    "import matplotlib.pyplot as plt\n",
    "import numpy as np\n",
    "\n",
    "# Definimos la matriz y el vector\n",
    "m1 = np.array([[0,0,0,0,0,0,0,0], \n",
    "               [1/np.sqrt(2),0,0,0,0,0,0,0], \n",
    "               [1/np.sqrt(2),0,0,0,0,0,0,0],\n",
    "               [0,(-1 + 1j)/np.sqrt(6),0,1,0,0,0,0], \n",
    "               [0,(-1 - 1j)/np.sqrt(6),0,0,1,0,0,0], \n",
    "               [0,(1 - 1j)/np.sqrt(6),(-1 + 1j)/np.sqrt(6),0,0,1,0,0],\n",
    "               [0,0,(-1 - 1j)/np.sqrt(6),0,0,0,1,0],\n",
    "               [0,0,(1 - 1j)/np.sqrt(6),0,0,0,0,1]])\n",
    "\n",
    "x = np.array([1,0,0,0,0,0,0,0])\n",
    "\n",
    "\n",
    "# Estado despues de 1 click\n",
    "x1 = np.dot(m1, x)\n",
    "print(\"Result after one Click: \", x1)\n",
    "\n",
    "# Estado despues de dos clicks\n",
    "x2 = np.dot(m1, x1)\n",
    "print(\"Result after two Clicks: \",x2)\n",
    "\n",
    "# Módulo cuadrado\n",
    "\n",
    "for i in range(len(x2)):\n",
    "    x2[i] = (np.abs(x2[i]))**2\n",
    "\n",
    "print(\"Probability after two clicks: \",x2)\n",
    "\n",
    "# Datos\n",
    "x = [0,1,2,3,4,5,6,7]\n",
    "\n",
    "#Grafico\n",
    "fig, ax = plt.subplots()\n",
    "ax.bar(x=x, height = x2)"
   ]
  },
  {
   "cell_type": "markdown",
   "id": "6ba5e85d-74f5-4ea7-868a-20c99b5f02c5",
   "metadata": {},
   "source": [
    "## Exercise 3: Simulating the Double Slit Experiment with Waves\n",
    "\n",
    "### Objective\n",
    "\n",
    "In this exercise, you will create a simulation of the double slit experiment using Python. Unlike particle-based interpretations, you will model light as waves and observe the interference pattern that emerges when waves pass through two slits and overlap on a screen. This simulation will help you visualize how constructive and destructive interference patterns form.\n",
    "\n",
    "### Background\n",
    "\n",
    "The double slit experiment demonstrates the wave-particle duality of light and\n",
    "matter. When coherent light passes through two closely spaced slits, it creates\n",
    "an interference pattern of bright and dark fringes on a detection screen. This\n",
    "pattern results from the constructive and destructive interference of the waves\n",
    "emanating from the slits.\n",
    "\n",
    "### References\n",
    "\n",
    "[Mathematics of Interference](https://phys.libretexts.org/Bookshelves/University_Physics/University_Physics_(OpenStax)/University_Physics_III_-_Optics_and_Modern_Physics_(OpenStax)/03%3A_Interference/3.03%3A_Mathematics_of_Interference)\n",
    "\n",
    "### Task\n",
    "\n",
    "Your task is to simulate the wave interference pattern using Python. Assume each slit acts as a point source of waves that spread out in circular patterns. When these waves overlap, they interfere with each other, creating a pattern of alternating high and low intensity on a screen.\n",
    "\n",
    "### Steps\n",
    "\n",
    "1. **Setup the Environment**: Ensure you have Python installed with the necessary libraries: NumPy for numerical calculations and Matplotlib for plotting.\n",
    "\n",
    "2. **Define Parameters**:\n",
    "   - Define the distance between the slits, the wavelength of the light, the distance from the slits to the screen, and the number of points on the screen where intensity will be calculated.\n",
    "\n",
    "3. **Model the Waves**:\n",
    "   - For simplicity, you can assume the wavefronts are straight lines perpendicular to the direction of propagation. Use the Huygens-Fresnel principle to model each slit as a source of new waves.\n",
    "\n",
    "4. **Calculate Intensity**:\n",
    "   - Use the principle of superposition to calculate the resultant wave amplitude at each point on the screen by summing the contributions from each slit.\n",
    "   - The intensity of light at each point is proportional to the square of the amplitude of the resultant wave.\n",
    "\n",
    "5. **Plot the Results**:\n",
    "   - Plot the calculated intensity pattern on the screen. You should observe a series of bright and dark fringes, demonstrating the interference pattern.\n",
    "\n",
    "### Hints\n",
    "\n",
    "- Use NumPy arrays to efficiently calculate the wave amplitudes and intensities across the screen.\n",
    "- Remember, the phase difference between the waves from the two slits contributes to the constructive (in-phase) and destructive (out-of-phase) interference.\n",
    "\n",
    "### Sample Code Skeleton\n",
    "\n",
    "\n"
   ]
  },
  {
   "cell_type": "code",
   "execution_count": null,
   "id": "ff00f46c",
   "metadata": {},
   "outputs": [],
   "source": [
    "\n",
    "import numpy as np\n",
    "import matplotlib.pyplot as plt\n",
    "\n",
    "# Define parameters\n",
    "slit_distance = ...  # distance between the two slits\n",
    "wavelength = ...    # wavelength of the light\n",
    "screen_distance = ...  # distance from the slits to the screen\n",
    "screen_width = ...  # width of the screen\n",
    "num_points = ...    # number of points on the screen to calculate intensity\n",
    "\n",
    "# Calculate wave interference pattern\n",
    "# Hint: Use np.linspace to create an array of points on the screen\n",
    "# and calculate the intensity at each point due to superposition of waves.\n",
    "\n",
    "# Plot the results\n",
    "plt.figure(figsize=(10, 6))\n",
    "plt.plot(screen_points, intensity, label='Interference Pattern')\n",
    "plt.xlabel('Position on Screen')\n",
    "plt.ylabel('Intensity')\n",
    "plt.title('Double Slit Experiment Simulation: Wave Interference Pattern')\n",
    "plt.legend()\n",
    "plt.show()"
   ]
  }
 ],
 "metadata": {
  "kernelspec": {
   "display_name": "Python 3 (ipykernel)",
   "language": "python",
   "name": "python3"
  },
  "language_info": {
   "codemirror_mode": {
    "name": "ipython",
    "version": 3
   },
   "file_extension": ".py",
   "mimetype": "text/x-python",
   "name": "python",
   "nbconvert_exporter": "python",
   "pygments_lexer": "ipython3",
   "version": "3.11.7"
  }
 },
 "nbformat": 4,
 "nbformat_minor": 5
}
